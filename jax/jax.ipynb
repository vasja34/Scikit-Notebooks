{
 "cells": [
  {
   "cell_type": "markdown",
   "metadata": {},
   "source": [
    "# Intro to Jax"
   ]
  },
  {
   "cell_type": "code",
   "execution_count": 4,
   "metadata": {},
   "outputs": [
    {
     "data": {
      "text/plain": [
       "(9.0, DeviceArray(6., dtype=float32))"
      ]
     },
     "execution_count": 4,
     "metadata": {},
     "output_type": "execute_result"
    }
   ],
   "source": [
    "from jax import grad\n",
    "\n",
    "def f(x):\n",
    "    return x**2\n",
    "\n",
    "grad_f = grad(f)\n",
    "\n",
    "f(3.), grad_f(3.)"
   ]
  },
  {
   "cell_type": "code",
   "execution_count": 22,
   "metadata": {},
   "outputs": [
    {
     "data": {
      "text/plain": [
       "(DeviceArray(4., dtype=float32), DeviceArray(1., dtype=float32))"
      ]
     },
     "execution_count": 22,
     "metadata": {},
     "output_type": "execute_result"
    }
   ],
   "source": [
    "def f(x, y):\n",
    "    return y * x**2\n",
    "\n",
    "grad_f = grad(f, argnums=(0, 1))\n",
    "\n",
    "dx, dy = grad_f(1., 2.)\n",
    "dx, dy"
   ]
  },
  {
   "cell_type": "markdown",
   "metadata": {},
   "source": [
    "# Arrays"
   ]
  },
  {
   "cell_type": "code",
   "execution_count": 23,
   "metadata": {},
   "outputs": [],
   "source": [
    "import jax.numpy as np"
   ]
  },
  {
   "cell_type": "code",
   "execution_count": 28,
   "metadata": {},
   "outputs": [],
   "source": [
    "from jax import hessian"
   ]
  },
  {
   "cell_type": "code",
   "execution_count": 31,
   "metadata": {},
   "outputs": [
    {
     "data": {
      "text/plain": [
       "DeviceArray([[-5.905694 ,  0.       ],\n",
       "             [ 0.       , -0.7950852]], dtype=float32)"
      ]
     },
     "execution_count": 31,
     "metadata": {},
     "output_type": "execute_result"
    }
   ],
   "source": [
    "def f(x):\n",
    "    return np.sum(x**2)\n",
    "\n",
    "grad_f = grad(f)\n",
    "hess_f = hessian(f)\n",
    "\n",
    "hessian(np.array([0.1, 0.2]))"
   ]
  },
  {
   "cell_type": "markdown",
   "metadata": {},
   "source": [
    "# Speed"
   ]
  },
  {
   "cell_type": "code",
   "execution_count": 48,
   "metadata": {},
   "outputs": [
    {
     "data": {
      "text/plain": [
       "DeviceArray(2., dtype=float32)"
      ]
     },
     "execution_count": 48,
     "metadata": {},
     "output_type": "execute_result"
    }
   ],
   "source": [
    "def g(x):\n",
    "    return np.sum(x**2)\n",
    "\n",
    "grad_g = grad(g)\n",
    "\n",
    "grad_g(1.0)"
   ]
  },
  {
   "cell_type": "code",
   "execution_count": 52,
   "metadata": {},
   "outputs": [
    {
     "name": "stdout",
     "output_type": "stream",
     "text": [
      "CPU times: user 2.65 s, sys: 449 ms, total: 3.1 s\n",
      "Wall time: 2.28 s\n"
     ]
    }
   ],
   "source": [
    "%time _ = np.stack([grad_g(i) for i in np.linspace(0, 10, 1000)])"
   ]
  },
  {
   "cell_type": "code",
   "execution_count": 53,
   "metadata": {},
   "outputs": [],
   "source": [
    "from jax import jit"
   ]
  },
  {
   "cell_type": "code",
   "execution_count": 54,
   "metadata": {},
   "outputs": [
    {
     "data": {
      "text/plain": [
       "DeviceArray(2., dtype=float32)"
      ]
     },
     "execution_count": 54,
     "metadata": {},
     "output_type": "execute_result"
    }
   ],
   "source": [
    "grad_g = jit(grad(g))\n",
    "grad_g(1.0)"
   ]
  },
  {
   "cell_type": "code",
   "execution_count": 55,
   "metadata": {},
   "outputs": [
    {
     "name": "stdout",
     "output_type": "stream",
     "text": [
      "CPU times: user 280 ms, sys: 61.8 ms, total: 342 ms\n",
      "Wall time: 238 ms\n"
     ]
    }
   ],
   "source": [
    "%time _ = np.stack([grad_g(i) for i in np.linspace(0, 10, 1000)])"
   ]
  },
  {
   "cell_type": "code",
   "execution_count": 56,
   "metadata": {},
   "outputs": [],
   "source": [
    "from jax import vmap"
   ]
  },
  {
   "cell_type": "code",
   "execution_count": 61,
   "metadata": {},
   "outputs": [
    {
     "name": "stdout",
     "output_type": "stream",
     "text": [
      "CPU times: user 22.7 ms, sys: 3.52 ms, total: 26.3 ms\n",
      "Wall time: 23.9 ms\n"
     ]
    }
   ],
   "source": [
    "%time _ = vmap(grad_g)(np.linspace(0, 10, 1000))"
   ]
  },
  {
   "cell_type": "markdown",
   "metadata": {},
   "source": [
    "# Full Train Loop"
   ]
  },
  {
   "cell_type": "code",
   "execution_count": 70,
   "metadata": {},
   "outputs": [],
   "source": [
    "def predict(params, inputs):\n",
    "    return inputs @ params \n",
    "\n",
    "def mse(params, inputs, targets):\n",
    "    preds = predict(params, inputs)\n",
    "    return np.mean((preds - targets)**2)\n",
    "\n",
    "grad_fun = jit(grad(mse))"
   ]
  },
  {
   "cell_type": "code",
   "execution_count": 76,
   "metadata": {},
   "outputs": [
    {
     "name": "stderr",
     "output_type": "stream",
     "text": [
      "100%|██████████| 100/100 [00:00<00:00, 660.49it/s]\n"
     ]
    }
   ],
   "source": [
    "import tqdm\n",
    "from numpy import zeros\n",
    "from numpy.random import normal\n",
    "\n",
    "n, k = 10_000, 5\n",
    "X = np.concatenate([np.ones((n, 1)), normal(0, 1, (n, k))], axis=1)\n",
    "true_w = normal(0, 5, (k + 1,))\n",
    "y = X @ true_w\n",
    "W = normal(0, 1, (k + 1,))\n",
    "stepsize = 0.02\n",
    "n_step = 100\n",
    "hist_gd = zeros((n_step,))\n",
    "for i in tqdm.tqdm(range(n_step)):\n",
    "    dW = grad_fun(W, inputs=X, targets=y)\n",
    "    W -= dW*stepsize\n",
    "    hist_gd[i] = mse(W, inputs=X, targets=y)"
   ]
  },
  {
   "cell_type": "code",
   "execution_count": 78,
   "metadata": {},
   "outputs": [
    {
     "data": {
      "text/plain": [
       "(array([ 4.44226847, -6.76762119,  6.00692163, -1.13450748, -5.7014697 ,\n",
       "        -4.67501268]),\n",
       " DeviceArray([ 4.323477 , -6.633852 ,  5.9252224, -1.1087155, -5.583535 ,\n",
       "              -4.5851116], dtype=float32))"
      ]
     },
     "execution_count": 78,
     "metadata": {},
     "output_type": "execute_result"
    }
   ],
   "source": [
    "true_w, W"
   ]
  },
  {
   "cell_type": "code",
   "execution_count": 80,
   "metadata": {},
   "outputs": [
    {
     "data": {
      "image/png": "[encoded data removed]",
      "text/plain": [
       "<Figure size 1440x288 with 1 Axes>"
      ]
     },
     "metadata": {
      "needs_background": "light"
     },
     "output_type": "display_data"
    }
   ],
   "source": [
    "import matplotlib.pylab as plt \n",
    "\n",
    "plt.figure(figsize=(20, 4))\n",
    "plt.plot(hist_gd)\n",
    "plt.ylim(0);"
   ]
  },
  {
   "cell_type": "markdown",
   "metadata": {},
   "source": [
    "# Closing Notes"
   ]
  },
  {
   "cell_type": "code",
   "execution_count": 85,
   "metadata": {},
   "outputs": [
    {
     "data": {
      "text/plain": [
       "DeviceArray(-1., dtype=float32)"
      ]
     },
     "execution_count": 85,
     "metadata": {},
     "output_type": "execute_result"
    }
   ],
   "source": [
    "def abs_val(x):\n",
    "    if x > 0:\n",
    "        return x\n",
    "    return -x\n",
    "\n",
    "grad(abs_val)(-2.0)"
   ]
  }
 ],
 "metadata": {
  "kernelspec": {
   "display_name": "Python 3",
   "language": "python",
   "name": "python3"
  },
  "language_info": {
   "codemirror_mode": {
    "name": "ipython",
    "version": 3
   },
   "file_extension": ".py",
   "mimetype": "text/x-python",
   "name": "python",
   "nbconvert_exporter": "python",
   "pygments_lexer": "ipython3",
   "version": "3.7.3"
  }
 },
 "nbformat": 4,
 "nbformat_minor": 4
}
