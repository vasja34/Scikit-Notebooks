{
 "cells": [
  {
   "cell_type": "markdown",
   "source": [
    "If we think about the variables in this system there's only two. \n",
    "\n",
    "1. $g$ the size of the group that we allocate\n",
    "2. $p$ the probability of somebody having the disease \n",
    "\n",
    "It turns out that we can define some quantities with just these two variables.\n",
    "\n",
    "$$\\mathbf{P}(\\text{none positive in group}) = (1-p)^g$$"
   ],
   "metadata": {}
  },
  {
   "cell_type": "code",
   "execution_count": 1,
   "source": [
    "import numpy as np\n",
    "import pandas as pd\n",
    "import matplotlib.pylab as plt \n",
    "\n",
    "g = np.linspace(1, 200, 200)\n",
    "p = 0.99**g"
   ],
   "outputs": [],
   "metadata": {}
  },
  {
   "cell_type": "code",
   "execution_count": 2,
   "source": [
    "pd.DataFrame({'g':g, 'p':p}).head(3)"
   ],
   "outputs": [
    {
     "output_type": "execute_result",
     "data": {
      "text/plain": [
       "     g         p\n",
       "0  1.0  0.990000\n",
       "1  2.0  0.980100\n",
       "2  3.0  0.970299"
      ],
      "text/html": [
       "<div>\n",
       "<style scoped>\n",
       "    .dataframe tbody tr th:only-of-type {\n",
       "        vertical-align: middle;\n",
       "    }\n",
       "\n",
       "    .dataframe tbody tr th {\n",
       "        vertical-align: top;\n",
       "    }\n",
       "\n",
       "    .dataframe thead th {\n",
       "        text-align: right;\n",
       "    }\n",
       "</style>\n",
       "<table border=\"1\" class=\"dataframe\">\n",
       "  <thead>\n",
       "    <tr style=\"text-align: right;\">\n",
       "      <th></th>\n",
       "      <th>g</th>\n",
       "      <th>p</th>\n",
       "    </tr>\n",
       "  </thead>\n",
       "  <tbody>\n",
       "    <tr>\n",
       "      <th>0</th>\n",
       "      <td>1.0</td>\n",
       "      <td>0.990000</td>\n",
       "    </tr>\n",
       "    <tr>\n",
       "      <th>1</th>\n",
       "      <td>2.0</td>\n",
       "      <td>0.980100</td>\n",
       "    </tr>\n",
       "    <tr>\n",
       "      <th>2</th>\n",
       "      <td>3.0</td>\n",
       "      <td>0.970299</td>\n",
       "    </tr>\n",
       "  </tbody>\n",
       "</table>\n",
       "</div>"
      ]
     },
     "metadata": {},
     "execution_count": 2
    }
   ],
   "metadata": {}
  },
  {
   "cell_type": "markdown",
   "source": [
    "Let's make a plot of this!"
   ],
   "metadata": {}
  },
  {
   "cell_type": "code",
   "execution_count": 3,
   "source": [
    "plt.figure(figsize=(12, 4))\n",
    "plt.subplot(121)\n",
    "plt.plot(g, p)\n",
    "plt.xlabel(\"groupsize\")\n",
    "plt.title(\"probability no positive test in group\")\n",
    "plt.subplot(122)\n",
    "plt.plot(g, p*g)\n",
    "plt.xlabel(\"groupsize\")\n",
    "plt.title(\"new chart\");"
   ],
   "outputs": [
    {
     "output_type": "display_data",
     "data": {
      "text/plain": [
       "<Figure size 864x288 with 2 Axes>"
      ],
      "image/png": "[encoded data removed]"
     },
     "metadata": {
      "needs_background": "light"
     }
    }
   ],
   "metadata": {}
  },
  {
   "cell_type": "code",
   "execution_count": 4,
   "source": [
    "from ipywidgets import interact\n",
    "\n",
    "import numpy as np\n",
    "import matplotlib.pylab as plt\n",
    "\n",
    "@interact(p=(0.001, 0.2, 0.001))\n",
    "def f(p):\n",
    "    g = np.linspace(1, 200, 500)\n",
    "    prob_group_safe = (1-p)**g\n",
    "    plt.figure(figsize=(12, 3))\n",
    "    plt.plot(g, g*prob_group_safe, label=f\"p={np.round(p, 3)}\")\n",
    "    plt.xlabel(\"number of people in a group\")\n",
    "    plt.ylabel(\"E(groups off the hook)\")\n",
    "    plt.legend();"
   ],
   "outputs": [
    {
     "output_type": "display_data",
     "data": {
      "text/plain": [
       "interactive(children=(FloatSlider(value=0.1, description='p', max=0.2, min=0.001, step=0.001), Output()), _dom…"
      ],
      "application/vnd.jupyter.widget-view+json": {
       "version_major": 2,
       "version_minor": 0,
       "model_id": "e2c5b078fe7443358d23dedd616d2524"
      }
     },
     "metadata": {}
    }
   ],
   "metadata": {}
  },
  {
   "cell_type": "markdown",
   "source": [
    "#### Does the relationship make sense?\n",
    "\n",
    "If the probability of having the disease is low, then we can have larger groups. This makes sense. The odds of having a single person in the group who has the disease is smaller. This also holds vise versa. When the probability of having the disease is high then we cannot afford large groups. We'd need to re-test all over the place! \n",
    "\n",
    "#### What's next? \n",
    "\n",
    "There seems to be something interesting happening here. Notice that there's always a \"tip\" of a hill in our chart? We could argue that given a disease probability $p$ there's a value for $n$ where the peak occurs. This could be seen as an \"optimal value\". We could look for this value numerically. But there's also maths that we can use! "
   ],
   "metadata": {}
  },
  {
   "cell_type": "code",
   "execution_count": 5,
   "source": [
    "import sympy as sp\n",
    "g, p = sp.symbols(\"g, p\")\n",
    "\n",
    "exp = g * (1-p) ** g\n",
    "\n",
    "exp"
   ],
   "outputs": [
    {
     "output_type": "execute_result",
     "data": {
      "text/plain": [
       "g*(1 - p)**g"
      ],
      "text/latex": [
       "$\\displaystyle g \\left(1 - p\\right)^{g}$"
      ]
     },
     "metadata": {},
     "execution_count": 5
    }
   ],
   "metadata": {}
  },
  {
   "cell_type": "code",
   "execution_count": 6,
   "source": [
    "sp.diff(exp, g)"
   ],
   "outputs": [
    {
     "output_type": "execute_result",
     "data": {
      "text/plain": [
       "g*(1 - p)**g*log(1 - p) + (1 - p)**g"
      ],
      "text/latex": [
       "$\\displaystyle g \\left(1 - p\\right)^{g} \\log{\\left(1 - p \\right)} + \\left(1 - p\\right)^{g}$"
      ]
     },
     "metadata": {},
     "execution_count": 6
    }
   ],
   "metadata": {}
  },
  {
   "cell_type": "code",
   "execution_count": 7,
   "source": [
    "sp.solve(sp.diff(exp, g), g)"
   ],
   "outputs": [
    {
     "output_type": "execute_result",
     "data": {
      "text/plain": [
       "[-1/log(1 - p)]"
      ]
     },
     "metadata": {},
     "execution_count": 7
    }
   ],
   "metadata": {}
  },
  {
   "cell_type": "code",
   "execution_count": 21,
   "source": [
    "g_opt = -1/sp.log(1 - p)\n",
    "g_opt.subs(p, 0.01).evalf()"
   ],
   "outputs": [
    {
     "output_type": "execute_result",
     "data": {
      "text/plain": [
       "99.4991624734221"
      ],
      "text/latex": [
       "$\\displaystyle 99.4991624734221$"
      ]
     },
     "metadata": {},
     "execution_count": 21
    }
   ],
   "metadata": {}
  },
  {
   "cell_type": "code",
   "execution_count": 22,
   "source": [
    "calc_n_groups = sp.lambdify(p, g_opt)\n",
    "\n",
    "p_vals = np.linspace(0.005, .4, 1000)\n",
    "n_vals = [calc_n_groups(_) for _ in p_vals]\n",
    "\n",
    "plt.plot(p_vals, n_vals)\n",
    "plt.xlabel(\"probability\")\n",
    "plt.ylabel(\"optimal group size\")\n",
    "plt.title(\"optimal value depends on p\");"
   ],
   "outputs": [
    {
     "output_type": "display_data",
     "data": {
      "text/plain": [
       "<Figure size 432x288 with 1 Axes>"
      ],
      "image/png": "[encoded data removed]"
     },
     "metadata": {
      "needs_background": "light"
     }
    }
   ],
   "metadata": {}
  },
  {
   "cell_type": "markdown",
   "source": [
    "This is pretty interesting. But here's the big question... how many tests do we need?"
   ],
   "metadata": {}
  },
  {
   "cell_type": "code",
   "execution_count": 23,
   "source": [
    "calc_n_groups(0.01)"
   ],
   "outputs": [
    {
     "output_type": "execute_result",
     "data": {
      "text/plain": [
       "99.49916247342207"
      ]
     },
     "metadata": {},
     "execution_count": 23
    }
   ],
   "metadata": {}
  },
  {
   "cell_type": "code",
   "execution_count": 24,
   "source": [
    "import random\n",
    "\n",
    "def chunker(seq, size):\n",
    "    return (seq[pos:pos + size] for pos in range(0, len(seq), size))\n",
    "\n",
    "prob_disease = 0.01\n",
    "population_size = 2_000_000\n",
    "est_cases = int(prob_disease * population_size)\n",
    "population = [{\"i\": i+1, \"disease\": True if random.random() < prob_disease else False} \n",
    "              for i in range(population_size)]\n",
    "\n",
    "group_size = int(calc_n_groups(prob_disease))\n",
    "n_tests = 0"
   ],
   "outputs": [],
   "metadata": {}
  },
  {
   "cell_type": "code",
   "execution_count": 25,
   "source": [
    "np.mean([any([i['disease'] for i in chunk]) \n",
    "         for chunk in chunker(population, group_size)])"
   ],
   "outputs": [
    {
     "output_type": "execute_result",
     "data": {
      "text/plain": [
       "0.6313913775181904"
      ]
     },
     "metadata": {},
     "execution_count": 25
    }
   ],
   "metadata": {}
  },
  {
   "cell_type": "code",
   "execution_count": 26,
   "source": [
    "potentially_positive_pop = []\n",
    "for chunk in chunker(population, group_size):\n",
    "    n_tests += 1\n",
    "    if any([i['disease'] for i in chunk]):\n",
    "        for member in chunk:\n",
    "            potentially_positive_pop.append(member)"
   ],
   "outputs": [],
   "metadata": {}
  },
  {
   "cell_type": "code",
   "execution_count": 27,
   "source": [
    "from pprint import pprint\n",
    "\n",
    "pprint({\"original population\": population_size,\n",
    "       \"positive cases left\": len(potentially_positive_pop),\n",
    "       \"n_tests used\": n_tests, \n",
    "       \"new probability\": est_cases/len(potentially_positive_pop)})"
   ],
   "outputs": [
    {
     "output_type": "stream",
     "name": "stdout",
     "text": [
      "{'n_tests used': 20203,\n",
      " 'new probability': 0.015837268894653655,\n",
      " 'original population': 2000000,\n",
      " 'positive cases left': 1262844}\n"
     ]
    }
   ],
   "metadata": {
    "tags": []
   }
  },
  {
   "cell_type": "markdown",
   "source": [
    "Let's now run this in a big way!"
   ],
   "metadata": {}
  },
  {
   "cell_type": "code",
   "execution_count": 28,
   "source": [
    "class Simulation:\n",
    "    def __init__(self, prob_disease, population_size):\n",
    "        self.prob_disease = prob_disease\n",
    "        self.population_size = population_size\n",
    "        self.est_cases = int(prob_disease * population_size)\n",
    "        self.population = [{\"i\": i+1, \"disease\": True if random.random() < prob_disease else False} \n",
    "                            for i in range(population_size)]\n",
    "        self.group_size = None\n",
    "        self.n_tests = 0\n",
    "        self.epoch = 0\n",
    "        self.data = []\n",
    "        self.log_state()\n",
    "    \n",
    "    def log_state(self):\n",
    "        log = {\n",
    "            'epoch': self.epoch,\n",
    "            'pop': len(self.population),\n",
    "            'cases': self.est_cases,\n",
    "            'group_size': self.group_size,\n",
    "            'n_tests': self.n_tests,\n",
    "            'p': self.prob_disease\n",
    "        }\n",
    "        print(log)\n",
    "        self.data.append(log)\n",
    "\n",
    "    def handle_single_round(self):\n",
    "        potentially_positive_pop = []\n",
    "        self.group_size = int(calc_n_groups(self.prob_disease))\n",
    "        for chunk in chunker(self.population, self.group_size):\n",
    "            self.n_tests += 1\n",
    "            if any([i['disease'] for i in chunk]):\n",
    "                for member in chunk:\n",
    "                    potentially_positive_pop.append(member)\n",
    "        self.prob_disease = self.est_cases/len(potentially_positive_pop)\n",
    "        self.population = potentially_positive_pop\n",
    "        self.epoch += 1\n",
    "        self.log_state()"
   ],
   "outputs": [],
   "metadata": {}
  },
  {
   "cell_type": "code",
   "execution_count": 29,
   "source": [
    "s = Simulation(prob_disease=0.01, population_size=10_000_000)        \n",
    "for i in range(3):\n",
    "    s.handle_single_round()"
   ],
   "outputs": [
    {
     "output_type": "stream",
     "name": "stdout",
     "text": [
      "{'epoch': 0, 'pop': 10000000, 'cases': 100000, 'group_size': None, 'n_tests': 0, 'p': 0.01}\n",
      "{'epoch': 1, 'pop': 6304716, 'cases': 100000, 'group_size': 99, 'n_tests': 101011, 'p': 0.015861142674785035}\n",
      "{'epoch': 2, 'pop': 4453768, 'cases': 100000, 'group_size': 62, 'n_tests': 202700, 'p': 0.02245289830992544}\n",
      "{'epoch': 3, 'pop': 3294764, 'cases': 100000, 'group_size': 44, 'n_tests': 303922, 'p': 0.03035118752056293}\n"
     ]
    }
   ],
   "metadata": {}
  },
  {
   "cell_type": "code",
   "execution_count": null,
   "source": [],
   "outputs": [],
   "metadata": {}
  }
 ],
 "metadata": {
  "kernelspec": {
   "name": "python3",
   "display_name": "Python 3.7.7 64-bit ('venv': venv)"
  },
  "language_info": {
   "codemirror_mode": {
    "name": "ipython",
    "version": 3
   },
   "file_extension": ".py",
   "mimetype": "text/x-python",
   "name": "python",
   "nbconvert_exporter": "python",
   "pygments_lexer": "ipython3",
   "version": "3.7.7"
  },
  "interpreter": {
   "hash": "9b9aaa337514a10e2a2aee26e5cf8b928017db044ac8e8707200729f062e23bb"
  }
 },
 "nbformat": 4,
 "nbformat_minor": 4
}